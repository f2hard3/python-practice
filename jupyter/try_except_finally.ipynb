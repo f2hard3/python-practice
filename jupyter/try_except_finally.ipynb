{
 "cells": [
  {
   "cell_type": "code",
   "execution_count": 1,
   "metadata": {},
   "outputs": [
    {
     "name": "stdout",
     "output_type": "stream",
     "text": [
      "radius:  213123\n",
      "circumference:  1338412.44\n",
      "area:  142623237225.06\n"
     ]
    }
   ],
   "source": [
    "while(True):\n",
    "    integer = input('Please input integer')\n",
    "\n",
    "    if integer.isdigit():\n",
    "        radius = int(integer)\n",
    "        print('radius: ', radius)\n",
    "        print('circumference: ', radius * 2 * 3.14)\n",
    "        print('area: ', radius ** 2 * 3.14)\n",
    "        break\n",
    "\n",
    "    else:  \n",
    "        print('Please input an integer')"
   ]
  },
  {
   "cell_type": "code",
   "execution_count": 2,
   "metadata": {},
   "outputs": [
    {
     "name": "stdout",
     "output_type": "stream",
     "text": [
      "151585344.0\n"
     ]
    }
   ],
   "source": [
    "while(True):\n",
    "    try:\n",
    "        print(float(input('Please input a number')) ** 2)\n",
    "        break\n",
    "    except:\n",
    "        print('number please')"
   ]
  },
  {
   "cell_type": "code",
   "execution_count": 3,
   "metadata": {},
   "outputs": [
    {
     "name": "stdout",
     "output_type": "stream",
     "text": [
      "151807041.0\n"
     ]
    }
   ],
   "source": [
    "while(True):\n",
    "    try:\n",
    "        print(float(input('Please input a number')) ** 2)\n",
    "        break\n",
    "    except:\n",
    "        pass"
   ]
  },
  {
   "cell_type": "code",
   "execution_count": 4,
   "metadata": {},
   "outputs": [
    {
     "name": "stdout",
     "output_type": "stream",
     "text": [
      "['52', '273', '32', '103']\n"
     ]
    }
   ],
   "source": [
    "list_input_a = ['52', '273', '32', 'spy', '103']\n",
    "\n",
    "list_number = []\n",
    "\n",
    "for item in list_input_a:\n",
    "    \n",
    "    try:\n",
    "        float(item)\n",
    "        list_number.append(item)\n",
    "\n",
    "    except:\n",
    "        pass\n",
    "\n",
    "print(list_number)"
   ]
  },
  {
   "cell_type": "code",
   "execution_count": 5,
   "metadata": {},
   "outputs": [
    {
     "data": {
      "text/plain": [
       "0"
      ]
     },
     "execution_count": 5,
     "metadata": {},
     "output_type": "execute_result"
    }
   ],
   "source": [
    "list_input_a.index('52')"
   ]
  },
  {
   "cell_type": "code",
   "execution_count": 9,
   "metadata": {},
   "outputs": [
    {
     "name": "stdout",
     "output_type": "stream",
     "text": [
      "exception occured\n",
      "this code is execueted unconditionally\n"
     ]
    }
   ],
   "source": [
    "try:\n",
    "    number = int(input('Please input integer'))\n",
    "    print(f'input value is {number}')\n",
    "\n",
    "except:\n",
    "    print('exception occured')\n",
    "\n",
    "finally:\n",
    "    print('this code is execueted unconditionally')"
   ]
  },
  {
   "cell_type": "code",
   "execution_count": 13,
   "metadata": {},
   "outputs": [
    {
     "name": "stdout",
     "output_type": "stream",
     "text": [
      "first line\n",
      "inside try\n",
      "finally\n"
     ]
    }
   ],
   "source": [
    "def finally_test():\n",
    "    print('first line')\n",
    "\n",
    "    try:\n",
    "        print('inside try')\n",
    "        return\n",
    "        ('try after return')\n",
    "    \n",
    "    except:\n",
    "        print('except executed')\n",
    "        return\n",
    "\n",
    "    finally:\n",
    "        print('finally')\n",
    "    \n",
    "    print('outside try')\n",
    "\n",
    "finally_test()"
   ]
  },
  {
   "cell_type": "code",
   "execution_count": 18,
   "metadata": {},
   "outputs": [
    {
     "name": "stdout",
     "output_type": "stream",
     "text": [
      "value error\n"
     ]
    }
   ],
   "source": [
    "try:\n",
    "    number = int(input('Please input integer'))\n",
    "    print('radius: ', number)\n",
    "    print('circumference: ', number * 2 * 3.14)\n",
    "    print('area: ', number ** 2 * 3.14)\n",
    "\n",
    "except Exception as exception:\n",
    "    if type(exception) == ValueError:\n",
    "        print('value error')\n",
    "    #  print(type(exception))\n",
    "    # print(exception)\n"
   ]
  },
  {
   "cell_type": "code",
   "execution_count": 19,
   "metadata": {},
   "outputs": [
    {
     "name": "stdout",
     "output_type": "stream",
     "text": [
      "invalid literal for int() with base 10: 'asdsad'\n"
     ]
    }
   ],
   "source": [
    "try:\n",
    "    number = int(input('Please input integer'))\n",
    "    print('radius: ', number)\n",
    "    print('circumference: ', number * 2 * 3.14)\n",
    "    print('area: ', number ** 2 * 3.14)\n",
    "\n",
    "except ValueError as exception:\n",
    "    print(exception)\n",
    "except IndexError as exception:\n",
    "    print(exception)\n",
    "except Exception as exception:\n",
    "    print(exception)"
   ]
  }
 ],
 "metadata": {
  "interpreter": {
   "hash": "3067ead486e059ec00ffe7555bdb889e6e264a24dc711bf108106cc7baee8d5d"
  },
  "kernelspec": {
   "display_name": "Python 3.9.7 ('base')",
   "language": "python",
   "name": "python3"
  },
  "language_info": {
   "codemirror_mode": {
    "name": "ipython",
    "version": 3
   },
   "file_extension": ".py",
   "mimetype": "text/x-python",
   "name": "python",
   "nbconvert_exporter": "python",
   "pygments_lexer": "ipython3",
   "version": "3.9.7"
  },
  "orig_nbformat": 4
 },
 "nbformat": 4,
 "nbformat_minor": 2
}
