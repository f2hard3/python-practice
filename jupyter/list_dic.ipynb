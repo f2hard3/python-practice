{
 "cells": [
  {
   "cell_type": "code",
   "execution_count": 2,
   "metadata": {},
   "outputs": [
    {
     "name": "stdout",
     "output_type": "stream",
     "text": [
      "key_1: value_1\n",
      "key_2: value_2\n",
      "key_3: value_3\n"
     ]
    }
   ],
   "source": [
    "a = {\n",
    "    'key_1': 'value_1',\n",
    "    'key_2': 'value_2',\n",
    "    'key_3': 'value_3',\n",
    "}\n",
    "\n",
    "for key, value in a.items():\n",
    "    print(f'{key}: {value}')"
   ]
  },
  {
   "cell_type": "code",
   "execution_count": 3,
   "metadata": {},
   "outputs": [
    {
     "name": "stdout",
     "output_type": "stream",
     "text": [
      "[0, 4, 16, 36, 64, 100, 144, 196, 256, 324]\n"
     ]
    }
   ],
   "source": [
    "a = [i * i for i in range(0, 20, 2)]\n",
    "print(a)"
   ]
  },
  {
   "cell_type": "code",
   "execution_count": 4,
   "metadata": {},
   "outputs": [
    {
     "name": "stdout",
     "output_type": "stream",
     "text": [
      "[0, 2, 4, 6, 8, 10, 12, 14, 16, 18]\n"
     ]
    }
   ],
   "source": [
    "a = [i for i in range(20) if i % 2 == 0]\n",
    "\n",
    "print(a)"
   ]
  },
  {
   "cell_type": "code",
   "execution_count": 8,
   "metadata": {},
   "outputs": [
    {
     "name": "stdout",
     "output_type": "stream",
     "text": [
      "1010\n",
      "10\n"
     ]
    }
   ],
   "source": [
    "print('{:b}'.format(10))\n",
    "print(int('1010', 2))"
   ]
  },
  {
   "cell_type": "code",
   "execution_count": 13,
   "metadata": {},
   "outputs": [
    {
     "name": "stdout",
     "output_type": "stream",
     "text": [
      "2  10\n",
      "5  101\n",
      "6  110\n",
      "11  1011\n",
      "13  1101\n",
      "14  1110\n",
      "23  10111\n",
      "27  11011\n",
      "29  11101\n",
      "30  11110\n",
      "47  101111\n",
      "55  110111\n",
      "59  111011\n",
      "61  111101\n",
      "62  111110\n",
      "95  1011111\n",
      "539\n"
     ]
    }
   ],
   "source": [
    "output = [i for i in range(1, 100 + 1) if '{:b}'.format(i).count('0') == 1 ]\n",
    "\n",
    "for i in output:\n",
    "    print(i, f'{i: b}')\n",
    "\n",
    "\n",
    "print(sum(output))"
   ]
  },
  {
   "cell_type": "code",
   "execution_count": null,
   "metadata": {},
   "outputs": [],
   "source": []
  }
 ],
 "metadata": {
  "interpreter": {
   "hash": "3067ead486e059ec00ffe7555bdb889e6e264a24dc711bf108106cc7baee8d5d"
  },
  "kernelspec": {
   "display_name": "Python 3.9.7 ('base')",
   "language": "python",
   "name": "python3"
  },
  "language_info": {
   "codemirror_mode": {
    "name": "ipython",
    "version": 3
   },
   "file_extension": ".py",
   "mimetype": "text/x-python",
   "name": "python",
   "nbconvert_exporter": "python",
   "pygments_lexer": "ipython3",
   "version": "3.9.7"
  },
  "orig_nbformat": 4
 },
 "nbformat": 4,
 "nbformat_minor": 2
}
