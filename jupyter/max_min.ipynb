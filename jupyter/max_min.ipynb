{
 "cells": [
  {
   "cell_type": "code",
   "execution_count": 6,
   "metadata": {},
   "outputs": [
    {
     "name": "stdout",
     "output_type": "stream",
     "text": [
      "(273, 1)\n"
     ]
    }
   ],
   "source": [
    "def max_min(li):\n",
    "  max, min = li.pop(), li.pop()\n",
    "  for i in li:\n",
    "    if i > max:\n",
    "      max = i\n",
    "    if i < min:\n",
    "      min = i\n",
    "\n",
    "  return max, min\n",
    "\n",
    "li = [1, 52, 273, 32, 99, 101]\n",
    "\n",
    "print(max_min(li))"
   ]
  }
 ],
 "metadata": {
  "interpreter": {
   "hash": "3067ead486e059ec00ffe7555bdb889e6e264a24dc711bf108106cc7baee8d5d"
  },
  "kernelspec": {
   "display_name": "Python 3.9.7 ('base')",
   "language": "python",
   "name": "python3"
  },
  "language_info": {
   "codemirror_mode": {
    "name": "ipython",
    "version": 3
   },
   "file_extension": ".py",
   "mimetype": "text/x-python",
   "name": "python",
   "nbconvert_exporter": "python",
   "pygments_lexer": "ipython3",
   "version": "3.9.7"
  },
  "orig_nbformat": 4
 },
 "nbformat": 4,
 "nbformat_minor": 2
}
