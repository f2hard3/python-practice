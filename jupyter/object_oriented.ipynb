{
 "cells": [
  {
   "cell_type": "code",
   "execution_count": 32,
   "metadata": {},
   "outputs": [],
   "source": [
    "class Student:\n",
    "    def __init__(self, name, korean, math, english, science):\n",
    "        self.name = name\n",
    "        self.korean = korean\n",
    "        self.math = math\n",
    "        self.english = english\n",
    "        self.science = science\n",
    "    \n",
    "    def sum(self):\n",
    "        return self.korean + self.math + self.english + self.science\n",
    "    \n",
    "    def mean(self):\n",
    "        return self.sum() / 4\n",
    "\n",
    "    def output(self):\n",
    "        print(self.name, self.sum(), self.mean())\n"
   ]
  },
  {
   "cell_type": "code",
   "execution_count": 33,
   "metadata": {},
   "outputs": [
    {
     "name": "stdout",
     "output_type": "stream",
     "text": [
      "instance deleted\n",
      "abc 300 75.0\n",
      "def 334 83.5\n",
      "ghi 306 76.5\n",
      "jkl 321 80.25\n",
      "mno 316 79.0\n"
     ]
    }
   ],
   "source": [
    "students = [\n",
    "    Student('abc', 60, 70, 80, 90),\n",
    "    Student('def', 89, 71, 82, 92),\n",
    "    Student('ghi', 62, 71, 83, 90),\n",
    "    Student('jkl', 63, 77, 86, 95),\n",
    "    Student('mno', 66, 76, 82, 92),\n",
    "]\n",
    "\n",
    "for student in students:\n",
    "    student.output()"
   ]
  },
  {
   "cell_type": "code",
   "execution_count": 34,
   "metadata": {},
   "outputs": [
    {
     "name": "stdout",
     "output_type": "stream",
     "text": [
      "instance created\n",
      "Sunggon Park 36\n"
     ]
    }
   ],
   "source": [
    "class Student:\n",
    "    def __init__(self, name, age):\n",
    "        print('instance created')\n",
    "        self.name = name\n",
    "        self.age = age\n",
    "    def __del__(self):\n",
    "        print('instance deleted')\n",
    "\n",
    "    def output(self):\n",
    "        print(self.name, self.age)\n",
    "\n",
    "student = Student('Sunggon Park', 36)\n",
    "\n",
    "student.name, student.age\n",
    "student.output()"
   ]
  },
  {
   "cell_type": "code",
   "execution_count": 59,
   "metadata": {},
   "outputs": [
    {
     "name": "stdout",
     "output_type": "stream",
     "text": [
      "instance created\n",
      "instance deleted\n",
      "Sunggon Park, 38\n",
      "True\n",
      "False\n",
      "False\n",
      "True\n",
      "False\n",
      "True\n"
     ]
    }
   ],
   "source": [
    "class Student:\n",
    "    def __init__(self, name, age):\n",
    "        print('instance created')\n",
    "        self.name = name\n",
    "        self.age = age\n",
    "    def __del__(self):\n",
    "        print('instance deleted')\n",
    "\n",
    "    def __str__(self):\n",
    "        return f'{self.name}, {self.age}'\n",
    "\n",
    "    def __eq__(self, other):\n",
    "        return self.age == other.age\n",
    "    def __ne__(self, other):\n",
    "        return self.age != other.age\n",
    "    def __gt__(self, other):\n",
    "        return self.age > other.age\n",
    "    def __ge__(self, other):\n",
    "        return self.age >= other.age\n",
    "    def __lt__(self, other):\n",
    "        return self.age < other.age\n",
    "    def __le__(self, other):\n",
    "        return self.age <= other.age\n",
    "        \n",
    "\n",
    "student = Student('Sunggon Park', 38)\n",
    "print(str(student))\n",
    "\n",
    "print(student == student)\n",
    "print(student != student)\n",
    "print(student > student)\n",
    "print(student >= student)\n",
    "print(student < student)\n",
    "print(student <= student)\n"
   ]
  },
  {
   "cell_type": "code",
   "execution_count": 78,
   "metadata": {},
   "outputs": [
    {
     "name": "stdout",
     "output_type": "stream",
     "text": [
      "10\n",
      "200\n"
     ]
    }
   ],
   "source": [
    "class Rect:\n",
    "    def __init__(self, width, height):\n",
    "        if width <= 0 or height <= 0: \n",
    "            raise Exception('width and height must not be less than 0')\n",
    "        self.__width = width\n",
    "        self.__height = height\n",
    "\n",
    "    def get_area(self):\n",
    "        return self.__width * self.__height\n",
    "\n",
    "    def get_width(self):\n",
    "        return self.__width\n",
    "    \n",
    "    def set_width(self, width):\n",
    "        if width <= 0: \n",
    "            raise Exception('width and height must not be less than 0')\n",
    "        self.__width = width\n",
    "\n",
    "    def get_height(self):\n",
    "        return self.__height\n",
    "    \n",
    "    def set_height(self, height):\n",
    "        if height <= 0: \n",
    "            raise Exception('height and height must not be less than 0')\n",
    "        self.__height = height\n",
    "\n",
    "rect = Rect(10, 10)\n",
    "print(rect.get_width())\n",
    "rect.set_width(rect.get_width() + 10) \n",
    "print(rect.get_area())"
   ]
  },
  {
   "cell_type": "code",
   "execution_count": 94,
   "metadata": {},
   "outputs": [
    {
     "name": "stdout",
     "output_type": "stream",
     "text": [
      "100\n",
      "900\n"
     ]
    }
   ],
   "source": [
    "class Rect:\n",
    "    def __init__(self, width, height):\n",
    "        if width <= 0 or height <= 0: \n",
    "            raise Exception('width and height must not be less than 0')\n",
    "        self.__width = width\n",
    "        self.__height = height\n",
    "\n",
    "    def get_area(self):\n",
    "        return self.__width * self.__height\n",
    "\n",
    "    @property\n",
    "    def width(self):\n",
    "        return self.__width\n",
    "    \n",
    "    @width.setter\n",
    "    def width(self, width):\n",
    "        if width <= 0: \n",
    "            raise Exception('width and height must not be less than 0')\n",
    "        self.__width = width\n",
    "\n",
    "    @property\n",
    "    def height(self):\n",
    "        return self.__height\n",
    "    \n",
    "    @height.setter\n",
    "    def height(self, height):\n",
    "        if height <= 0: \n",
    "            raise Exception('height and height must not be less than 0')\n",
    "        self.__height = height\n",
    "\n",
    "rect = Rect(100, 10)\n",
    "print(rect.width)\n",
    "rect.width -= 10\n",
    "print(rect.get_area())"
   ]
  }
 ],
 "metadata": {
  "interpreter": {
   "hash": "3067ead486e059ec00ffe7555bdb889e6e264a24dc711bf108106cc7baee8d5d"
  },
  "kernelspec": {
   "display_name": "Python 3.9.7 ('base')",
   "language": "python",
   "name": "python3"
  },
  "language_info": {
   "codemirror_mode": {
    "name": "ipython",
    "version": 3
   },
   "file_extension": ".py",
   "mimetype": "text/x-python",
   "name": "python",
   "nbconvert_exporter": "python",
   "pygments_lexer": "ipython3",
   "version": "3.9.7"
  },
  "orig_nbformat": 4
 },
 "nbformat": 4,
 "nbformat_minor": 2
}
