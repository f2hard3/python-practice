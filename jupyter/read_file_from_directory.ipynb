{
 "cells": [
  {
   "cell_type": "code",
   "execution_count": 31,
   "metadata": {},
   "outputs": [
    {
     "name": "stdout",
     "output_type": "stream",
     "text": [
      "../README.md\n",
      "../.gitignore\n",
      "../python_filesmy_module.py\n",
      "../python_fileshello.py\n",
      "../python_filesmax_min.py\n",
      "../python_filesbeautifulsoup4.py\n",
      "../python_filestest\n",
      "../python_filesdecorator.py\n",
      "../python_filestest.py\n",
      "../python_filesstart.py\n",
      "../python_filesrect.py\n",
      "../python_filestext.py\n",
      "../python_filesmodule.py\n",
      "../python_filesstudent.py\n",
      "../python_filesoutput.txt\n",
      "../python_filesinheritance.py\n",
      "../.gitconfig\n",
      "../.gitobjects\n",
      "../.gitHEAD\n",
      "../.gitinfo\n",
      "../.gitlogs\n",
      "../.gitdescription\n",
      "../.githooks\n",
      "../.gitrefs\n",
      "../.gitindex\n",
      "../.gitCOMMIT_EDITMSG\n",
      "../.vscodelaunch.json\n",
      "../jupyterlist_dic.ipynb\n",
      "../jupyterbasics.ipynb\n",
      "../jupytertuple.ipynb\n",
      "../jupytertry_except_finally.ipynb\n",
      "../jupytermodule.ipynb\n",
      "../jupyterfunction.ipynb\n",
      "../jupyterrecursive_memoize.ipynb\n",
      "../jupyteriteration.ipynb\n",
      "../jupyterobject_oriented.ipynb\n",
      "../jupyterother_iterations.ipynb\n",
      "../jupyterfile.ipynb\n",
      "../jupyterlambda_map_fliter.ipynb\n",
      "../jupyterstr_method.ipynb\n",
      "../jupytertest.txt\n",
      "../jupyterread_file_from_directory.ipynb\n",
      "../jupytergenerator.ipynb\n"
     ]
    }
   ],
   "source": [
    "import os\n",
    "\n",
    "def read_path(path):\n",
    "    output = os.listdir(path)\n",
    "\n",
    "    for item in output:\n",
    "        if os.path.isdir(f'{path}{item}'):\n",
    "            read_path(f'{path}{item}')\n",
    "        else:\n",
    "            print(f'{path}{item}')\n",
    "\n",
    "\n",
    "read_path('../')"
   ]
  },
  {
   "cell_type": "code",
   "execution_count": 32,
   "metadata": {},
   "outputs": [],
   "source": [
    "html_doc = '''\n",
    "  <html>\n",
    "    <head>\n",
    "      <title>Test Page</title>\n",
    "    </head>\n",
    "    <body>\n",
    "      <h1>Hello World</h1>\n",
    "    </body>\n",
    "  </html>\n",
    "'''"
   ]
  },
  {
   "cell_type": "code",
   "execution_count": 33,
   "metadata": {},
   "outputs": [],
   "source": [
    "from bs4 import BeautifulSoup\n",
    "\n",
    "soup = BeautifulSoup(html_doc, 'html.parser')"
   ]
  },
  {
   "cell_type": "code",
   "execution_count": 41,
   "metadata": {},
   "outputs": [
    {
     "name": "stdout",
     "output_type": "stream",
     "text": [
      "Hello World\n"
     ]
    }
   ],
   "source": [
    "print(soup.select('h1')[0].string)\n"
   ]
  },
  {
   "cell_type": "code",
   "execution_count": 55,
   "metadata": {},
   "outputs": [
    {
     "name": "stdout",
     "output_type": "stream",
     "text": [
      "weather:  <wfkor>맑음</wfkor>\n",
      "--------------------\n",
      "weather:  <wfkor>맑음</wfkor>\n",
      "--------------------\n",
      "weather:  <wfkor>맑음</wfkor>\n",
      "--------------------\n",
      "weather:  <wfkor>맑음</wfkor>\n",
      "--------------------\n",
      "weather:  <wfkor>맑음</wfkor>\n",
      "--------------------\n",
      "weather:  <wfkor>맑음</wfkor>\n",
      "--------------------\n",
      "weather:  <wfkor>맑음</wfkor>\n",
      "--------------------\n",
      "weather:  <wfkor>맑음</wfkor>\n",
      "--------------------\n",
      "weather:  <wfkor>맑음</wfkor>\n",
      "--------------------\n",
      "weather:  <wfkor>맑음</wfkor>\n",
      "--------------------\n",
      "weather:  <wfkor>맑음</wfkor>\n",
      "--------------------\n",
      "weather:  <wfkor>맑음</wfkor>\n",
      "--------------------\n",
      "weather:  <wfkor>맑음</wfkor>\n",
      "--------------------\n",
      "weather:  <wfkor>구름 많음</wfkor>\n",
      "--------------------\n",
      "weather:  <wfkor>흐림</wfkor>\n",
      "--------------------\n",
      "weather:  <wfkor>흐림</wfkor>\n",
      "--------------------\n",
      "weather:  <wfkor>구름 많음</wfkor>\n",
      "--------------------\n",
      "weather:  <wfkor>맑음</wfkor>\n",
      "--------------------\n",
      "weather:  <wfkor>맑음</wfkor>\n",
      "--------------------\n",
      "weather:  <wfkor>맑음</wfkor>\n",
      "--------------------\n",
      "weather:  <wfkor>맑음</wfkor>\n",
      "--------------------\n"
     ]
    }
   ],
   "source": [
    "from urllib import request\n",
    "\n",
    "content = request.urlopen('http://www.kma.go.kr/wid/queryDFSRSS.jsp?zone=1174051500')\n",
    "\n",
    "soup = BeautifulSoup(content, 'html.parser')\n",
    "\n",
    "for data in soup.select('data'):\n",
    "  print('weather: ', data.select_one('wfkor'))\n",
    "  print('-' * 20)\n"
   ]
  },
  {
   "cell_type": "code",
   "execution_count": null,
   "metadata": {},
   "outputs": [],
   "source": []
  }
 ],
 "metadata": {
  "interpreter": {
   "hash": "3067ead486e059ec00ffe7555bdb889e6e264a24dc711bf108106cc7baee8d5d"
  },
  "kernelspec": {
   "display_name": "Python 3.9.7 ('base')",
   "language": "python",
   "name": "python3"
  },
  "language_info": {
   "codemirror_mode": {
    "name": "ipython",
    "version": 3
   },
   "file_extension": ".py",
   "mimetype": "text/x-python",
   "name": "python",
   "nbconvert_exporter": "python",
   "pygments_lexer": "ipython3",
   "version": "3.9.7"
  },
  "orig_nbformat": 4
 },
 "nbformat": 4,
 "nbformat_minor": 2
}
