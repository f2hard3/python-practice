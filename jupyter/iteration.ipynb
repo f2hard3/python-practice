{
 "cells": [
  {
   "cell_type": "code",
   "execution_count": 84,
   "metadata": {},
   "outputs": [
    {
     "name": "stdout",
     "output_type": "stream",
     "text": [
      "1\n",
      "2\n",
      "3\n",
      "4\n",
      "5\n",
      "6\n",
      "7\n"
     ]
    }
   ],
   "source": [
    "a = [1, 2, 3, 4, 5, 6, 7]\n",
    "\n",
    "for element in a:\n",
    "    print(element)"
   ]
  },
  {
   "cell_type": "code",
   "execution_count": 85,
   "metadata": {},
   "outputs": [
    {
     "name": "stdout",
     "output_type": "stream",
     "text": [
      "number: 273\n",
      "number: 103\n",
      "number: 800\n"
     ]
    }
   ],
   "source": [
    "numbers = [273, 103, 5, 32, 65, 9, 72, 800, 99]\n",
    "\n",
    "for number in numbers:\n",
    "    if number >= 100:\n",
    "        print(f'number: {number}')"
   ]
  },
  {
   "cell_type": "code",
   "execution_count": 86,
   "metadata": {},
   "outputs": [
    {
     "name": "stdout",
     "output_type": "stream",
     "text": [
      "273 is an odd number\n",
      "103 is an odd number\n",
      "5 is an odd number\n",
      "32 is an even number\n",
      "65 is an odd number\n",
      "9 is an odd number\n",
      "72 is an even number\n",
      "800 is an even number\n",
      "99 is an odd number\n"
     ]
    }
   ],
   "source": [
    "for number in numbers:\n",
    "    if number % 2 == 0:\n",
    "        print(f'{number} is an even number')\n",
    "    else:\n",
    "        print(f'{number} is an odd number')"
   ]
  },
  {
   "cell_type": "code",
   "execution_count": 87,
   "metadata": {},
   "outputs": [
    {
     "name": "stdout",
     "output_type": "stream",
     "text": [
      "273 is 3 digit number\n",
      "103 is 3 digit number\n",
      "5 is 1 digit number\n",
      "32 is 2 digit number\n",
      "65 is 2 digit number\n",
      "9 is 1 digit number\n",
      "72 is 2 digit number\n",
      "800 is 3 digit number\n",
      "99 is 2 digit number\n"
     ]
    }
   ],
   "source": [
    "for number in numbers:\n",
    "    print(f'{number} is {len(str(number))} digit number')"
   ]
  },
  {
   "cell_type": "code",
   "execution_count": 88,
   "metadata": {},
   "outputs": [],
   "source": [
    "list_of_list = [\n",
    "    [1, 2, 3],\n",
    "    [4, 5, 6, 7],\n",
    "    [8, 9]\n",
    "]\n",
    "\n",
    "# for list in list_of_list:\n",
    "#     for number in list:\n",
    "#         print(number)"
   ]
  },
  {
   "cell_type": "code",
   "execution_count": 89,
   "metadata": {},
   "outputs": [
    {
     "name": "stdout",
     "output_type": "stream",
     "text": [
      "[[1, 4, 7], [2, 5, 8], [3, 6, 9]]\n"
     ]
    }
   ],
   "source": [
    "numbers = [1, 2, 3, 4, 5, 6, 7, 8, 9]\n",
    "output = [[], [], []]\n",
    "\n",
    "for number in numbers:\n",
    "    output[(number - 1) % 3].append(number)\n",
    "\n",
    "print(output)"
   ]
  },
  {
   "cell_type": "code",
   "execution_count": 90,
   "metadata": {},
   "outputs": [
    {
     "name": "stdout",
     "output_type": "stream",
     "text": [
      "string: value\n",
      "273: [1, 2, 3, 4]\n",
      "True: False\n"
     ]
    }
   ],
   "source": [
    "dic = {\n",
    "    'string': 'value',\n",
    "    273: [1, 2, 3, 4],\n",
    "    True: False\n",
    "}\n",
    "\n",
    "for key in dic:\n",
    "    print(f'{key}: {dic[key]}')"
   ]
  },
  {
   "cell_type": "code",
   "execution_count": 91,
   "metadata": {},
   "outputs": [
    {
     "name": "stdout",
     "output_type": "stream",
     "text": [
      "string: value\n",
      "273: [1, 2, 3, 4]\n",
      "True: False\n",
      "abc: abc\n"
     ]
    }
   ],
   "source": [
    "dic['abc'] = 'abc'\n",
    "\n",
    "for key in dic:\n",
    "    print(f'{key}: {dic[key]}')"
   ]
  },
  {
   "cell_type": "code",
   "execution_count": 92,
   "metadata": {},
   "outputs": [
    {
     "name": "stdout",
     "output_type": "stream",
     "text": [
      "string: value\n",
      "273: [1, 2, 3, 4]\n",
      "True: False\n"
     ]
    }
   ],
   "source": [
    "del dic['abc']\n",
    "\n",
    "for key in dic:\n",
    "    print(f'{key}: {dic[key]}')"
   ]
  },
  {
   "cell_type": "code",
   "execution_count": 93,
   "metadata": {},
   "outputs": [
    {
     "name": "stdout",
     "output_type": "stream",
     "text": [
      "no key: abc\n"
     ]
    }
   ],
   "source": [
    "if 'abc' in dic: print(dic['abc'])\n",
    "else: print('no key: abc')"
   ]
  },
  {
   "cell_type": "code",
   "execution_count": 94,
   "metadata": {},
   "outputs": [
    {
     "name": "stdout",
     "output_type": "stream",
     "text": [
      "False\n",
      "None\n"
     ]
    }
   ],
   "source": [
    "print(dic.get(True))\n",
    "print(dic.get('True'))"
   ]
  },
  {
   "cell_type": "code",
   "execution_count": 95,
   "metadata": {},
   "outputs": [
    {
     "name": "stdout",
     "output_type": "stream",
     "text": [
      "{1: 3, 2: 4, 6: 1, 8: 2, 4: 3, 3: 3, 9: 3, 5: 2, 7: 2}\n"
     ]
    }
   ],
   "source": [
    "numbers = [1, 2, 6, 8, 4, 3, 2, 1, 9, 5, 4, 9, 7, 2, 1, 3, 5, 4, 8, 9, 7, 2, 3]\n",
    "counter = {}\n",
    "\n",
    "for number in numbers:\n",
    "    if number in counter: counter[number] += 1\n",
    "    else: counter[number] = 1\n",
    "\n",
    "print(counter)"
   ]
  },
  {
   "cell_type": "code",
   "execution_count": 97,
   "metadata": {},
   "outputs": [
    {
     "name": "stdout",
     "output_type": "stream",
     "text": [
      "name: knight\n",
      "level: 12\n",
      "sword: firing sword\n",
      "armor: full plate\n",
      "skill: ['cutting', 'cutting strongly', 'cutting more strongly']\n"
     ]
    }
   ],
   "source": [
    "character = {\n",
    "    'name': 'knight',\n",
    "    'level': 12,\n",
    "    'items': {\n",
    "        'sword': 'firing sword',\n",
    "        'armor': 'full plate'\n",
    "    },\n",
    "    'skill': ['cutting', 'cutting strongly', 'cutting more strongly']\n",
    "}\n",
    "\n",
    "for key in character:\n",
    "    if type(character[key]) is dict:\n",
    "        for b in character[key]:\n",
    "            print(f'{b}: {character[key][b]}')\n",
    "    elif type(character[key]) is list:\n",
    "        for c in character[key]:\n",
    "            print(f'{key}: {c}')\n",
    "    else: print(f'{key}: {character[key]}')\n"
   ]
  }
 ],
 "metadata": {
  "interpreter": {
   "hash": "3067ead486e059ec00ffe7555bdb889e6e264a24dc711bf108106cc7baee8d5d"
  },
  "kernelspec": {
   "display_name": "Python 3.9.7 ('base')",
   "language": "python",
   "name": "python3"
  },
  "language_info": {
   "codemirror_mode": {
    "name": "ipython",
    "version": 3
   },
   "file_extension": ".py",
   "mimetype": "text/x-python",
   "name": "python",
   "nbconvert_exporter": "python",
   "pygments_lexer": "ipython3",
   "version": "3.9.7"
  },
  "orig_nbformat": 4
 },
 "nbformat": 4,
 "nbformat_minor": 2
}
