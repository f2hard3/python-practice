{
 "cells": [
  {
   "cell_type": "code",
   "execution_count": 6,
   "metadata": {},
   "outputs": [
    {
     "name": "stdout",
     "output_type": "stream",
     "text": [
      "[0, 1, 2, 3, 4, 5]\n",
      "[1, 3, 5]\n"
     ]
    }
   ],
   "source": [
    "original = [0, 1, 2, 3, 4, 5]\n",
    "\n",
    "new = [i \n",
    "  for i in original \n",
    "  if i % 2 == 1\n",
    "]\n",
    "print(original)\n",
    "print(new)"
   ]
  },
  {
   "cell_type": "code",
   "execution_count": 8,
   "metadata": {},
   "outputs": [
    {
     "name": "stdout",
     "output_type": "stream",
     "text": [
      "{'11': 1, '33': 3, '55': 5}\n"
     ]
    }
   ],
   "source": [
    "original = [0, 1, 2, 3, 4, 5]\n",
    "\n",
    "new = {str(i) * 2: i \n",
    "  for i in original \n",
    "  if i % 2 == 1\n",
    "}\n",
    "\n",
    "print(new)"
   ]
  },
  {
   "cell_type": "code",
   "execution_count": 13,
   "metadata": {},
   "outputs": [
    {
     "name": "stdout",
     "output_type": "stream",
     "text": [
      "[0, 1, 2, 3, 4, 5]\n",
      "<generator object <genexpr> at 0x7fb426df6c80>\n",
      "1\n",
      "3\n",
      "5\n"
     ]
    }
   ],
   "source": [
    "original = [0, 1, 2, 3, 4, 5]\n",
    "\n",
    "new = (i \n",
    "  for i in original\n",
    "  if i % 2 == 1\n",
    ")\n",
    "print(original)\n",
    "print(new)\n",
    "\n",
    "for item in new:\n",
    "  print(item)"
   ]
  },
  {
   "cell_type": "code",
   "execution_count": 19,
   "metadata": {},
   "outputs": [
    {
     "name": "stdout",
     "output_type": "stream",
     "text": [
      "gen\n",
      "10000::1::4::9::16::25::\n",
      "li\n",
      "0::1::4::9::16::25::"
     ]
    }
   ],
   "source": [
    "original = [0, 1, 2, 3, 4, 5]\n",
    "\n",
    "gen = (i**2\n",
    "  for i in original\n",
    ")\n",
    "\n",
    "li = [i**2\n",
    "  for i in original\n",
    "]\n",
    "\n",
    "original[0] = 100\n",
    "\n",
    "print('gen')\n",
    "for i in gen:\n",
    "  print(i, end='::')\n",
    "print()\n",
    "print('li')\n",
    "for i in li:\n",
    "  print(i, end='::')\n"
   ]
  },
  {
   "cell_type": "code",
   "execution_count": null,
   "metadata": {},
   "outputs": [],
   "source": []
  }
 ],
 "metadata": {
  "interpreter": {
   "hash": "3067ead486e059ec00ffe7555bdb889e6e264a24dc711bf108106cc7baee8d5d"
  },
  "kernelspec": {
   "display_name": "Python 3.9.7 ('base')",
   "language": "python",
   "name": "python3"
  },
  "language_info": {
   "codemirror_mode": {
    "name": "ipython",
    "version": 3
   },
   "file_extension": ".py",
   "mimetype": "text/x-python",
   "name": "python",
   "nbconvert_exporter": "python",
   "pygments_lexer": "ipython3",
   "version": "3.9.7"
  },
  "orig_nbformat": 4
 },
 "nbformat": 4,
 "nbformat_minor": 2
}
