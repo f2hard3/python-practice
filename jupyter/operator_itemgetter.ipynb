{
 "cells": [
  {
   "cell_type": "code",
   "execution_count": 4,
   "metadata": {},
   "outputs": [
    {
     "name": "stdout",
     "output_type": "stream",
     "text": [
      "32\n",
      "273\n",
      "[32, 57, 103, 271, 273]\n",
      "[273, 271, 103, 57, 32]\n"
     ]
    }
   ],
   "source": [
    "iterable = [273, 32, 103, 57, 271]\n",
    "\n",
    "print(min(iterable))\n",
    "print(max(iterable))\n",
    "print(sorted(iterable))\n",
    "print(sorted(iterable)[::-1])"
   ]
  },
  {
   "cell_type": "code",
   "execution_count": 12,
   "metadata": {},
   "outputs": [
    {
     "name": "stdout",
     "output_type": "stream",
     "text": [
      "{'name': 'ghi', 'age': 2}\n",
      "{'name': 'abc', 'age': 30}\n",
      "[{'name': 'ghi', 'age': 2}, {'name': 'def', 'age': 6}, {'name': 'abc', 'age': 30}]\n",
      "[{'name': 'abc', 'age': 30}, {'name': 'def', 'age': 6}, {'name': 'ghi', 'age': 2}]\n"
     ]
    }
   ],
   "source": [
    "iterable = [\n",
    "  { 'name': 'abc', 'age': 30 } ,\n",
    "  { 'name': 'def', 'age': 6 },\n",
    "  { 'name': 'ghi', 'age': 2 },\n",
    "]\n",
    "\n",
    "print(min(iterable, key=(lambda item: item['age'])))\n",
    "print(max(iterable, key=(lambda item: item['age'])))\n",
    "print(sorted(iterable, key=(lambda item: item['age'])))\n",
    "print(sorted(iterable, key=(lambda item: item['age']))[::-1])"
   ]
  },
  {
   "cell_type": "code",
   "execution_count": 14,
   "metadata": {},
   "outputs": [
    {
     "name": "stdout",
     "output_type": "stream",
     "text": [
      "{'name': 'ghi', 'age': 2}\n",
      "{'name': 'abc', 'age': 30}\n",
      "[{'name': 'ghi', 'age': 2}, {'name': 'def', 'age': 6}, {'name': 'abc', 'age': 30}]\n",
      "[{'name': 'abc', 'age': 30}, {'name': 'def', 'age': 6}, {'name': 'ghi', 'age': 2}]\n"
     ]
    }
   ],
   "source": [
    "import operator\n",
    "\n",
    "\n",
    "\n",
    "iterable = [\n",
    "  { 'name': 'abc', 'age': 30 } ,\n",
    "  { 'name': 'def', 'age': 6 },\n",
    "  { 'name': 'ghi', 'age': 2 },\n",
    "]\n",
    "\n",
    "getter = operator.itemgetter('age')\n",
    "print(min(iterable, key=(getter)))\n",
    "print(max(iterable, key=(getter)))\n",
    "print(sorted(iterable, key=(getter)))\n",
    "print(sorted(iterable, key=(getter))[::-1])"
   ]
  }
 ],
 "metadata": {
  "interpreter": {
   "hash": "3067ead486e059ec00ffe7555bdb889e6e264a24dc711bf108106cc7baee8d5d"
  },
  "kernelspec": {
   "display_name": "Python 3.9.7 ('base')",
   "language": "python",
   "name": "python3"
  },
  "language_info": {
   "codemirror_mode": {
    "name": "ipython",
    "version": 3
   },
   "file_extension": ".py",
   "mimetype": "text/x-python",
   "name": "python",
   "nbconvert_exporter": "python",
   "pygments_lexer": "ipython3",
   "version": "3.9.7"
  },
  "orig_nbformat": 4
 },
 "nbformat": 4,
 "nbformat_minor": 2
}
